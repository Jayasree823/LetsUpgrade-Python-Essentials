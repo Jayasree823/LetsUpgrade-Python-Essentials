{
 "cells": [
  {
   "cell_type": "markdown",
   "metadata": {},
   "source": [
    "assingment 1- question 1-Day 2 -list\n",
    "-list is a data structure in python that is a mutable or changable,ordered sequence of elements -Each element or value that is inside of a list is called an iteam -List is collection of different data types and it can also hold a sub list -We can also retrive the data by calling the index numbers -The functions or methods that a list can do is as follows: append() extend() clear() copy() count() extend() index() insert() pop() remove() reverse()\n",
    "\n",
    "assingment 1- question 2-Day 2 -Dictionaries\n",
    "-Dictionary is a built-in Python Data Structure that is mutable. It is similar in spirit to List, Set, and Tuples. -It is not indexed by a sequence of numbers but indexed based on keys and can be understood as associative arrays. -It consists of a key with an associated value.Dictionaries are used for JSON. -The functions or methods that a dict can do is as follows: clear() copy() fromkeys() get() items() keys() pop() popitem() setdefault() update()\n",
    "\n",
    "assingment 1- question 3-Day 2 -Sets\n",
    "-A set is a collection which is unordered and unindexed. In Python sets are written with curly brackets. -Sets are complex data structure. -Sets are used for storing unique values. -The functions or methods that a sets can do is as follows: add() clear() copy() difference() difference_update() discard() intersection() intersection_update() isdisjoint() issubset()\n",
    "\n",
    "assingment 1- question 4-Day 2 -Tuple\n",
    "-Tuples are another standard data type that allows you to store values in a sequence. -They might be useful in situations where you might want to share the data with someone but not allow them to manipulate the data. -They can use the data values, but no change is reflected in the original data shared. -Tuples are ordered immutable collections of objects. -The explore default methods of Tuples are: count() index()\n",
    "\n",
    "assingment 1- question 5-Day 2 -string\n",
    "-String literals in python are surrounded by either single quotation marks, or double quotation marks. -strings in Python are arrays of bytes representing unicode characters. -Python has a set of built-in methods that you can use on strings: strip() lower() upper() replace() split()"
   ]
  },
  {
   "cell_type": "markdown",
   "metadata": {},
   "source": []
  }
 ],
 "metadata": {
  "kernelspec": {
   "display_name": "Python 3",
   "language": "python",
   "name": "python3"
  },
  "language_info": {
   "codemirror_mode": {
    "name": "ipython",
    "version": 3
   },
   "file_extension": ".py",
   "mimetype": "text/x-python",
   "name": "python",
   "nbconvert_exporter": "python",
   "pygments_lexer": "ipython3",
   "version": "3.8.3"
  }
 },
 "nbformat": 4,
 "nbformat_minor": 4
}
